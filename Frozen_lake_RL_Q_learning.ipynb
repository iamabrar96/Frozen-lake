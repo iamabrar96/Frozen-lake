{
 "cells": [
  {
   "cell_type": "code",
   "execution_count": null,
   "metadata": {},
   "outputs": [],
   "source": [
    "from gym import envs\n",
    "#print(envs.registry.all())\n"
   ]
  },
  {
   "cell_type": "code",
   "execution_count": 1,
   "metadata": {},
   "outputs": [],
   "source": [
    "import numpy as np\n",
    "import gym\n",
    "import random\n",
    "import time\n",
    "from IPython.display import clear_output"
   ]
  },
  {
   "cell_type": "code",
   "execution_count": 2,
   "metadata": {},
   "outputs": [],
   "source": [
    "env=gym.make(\"FrozenLake-v0\")         # frozen lake game from gym module\n",
    "state_space_size=env.observation_space.n      # total no. of states in the environment \n",
    "action_space_size=env.action_space.n          # total no.of actions in the environment\n",
    "q_table=np.zeros((state_space_size,action_space_size))      # q table formation with states and action\n",
    "q_table"
   ]
  },
  {
   "cell_type": "code",
   "execution_count": 4,
   "metadata": {},
   "outputs": [],
   "source": [
    "# HYperparmeters\n",
    "num_episodes=10000                 # total no of iterations \n",
    "max_step_per_episode=100        # total iterations per episode\n",
    "alpha=0.01                      # learning rate\n",
    "discounted_return=0.99\n",
    "exploration_rate=1\n",
    "max_exploration=1\n",
    "min_exploration=0.01\n",
    "exploration_decay=0.001\n",
    "rewards_all_episodes=[]    # collection of all rewards for total iteration"
   ]
  },
  {
   "cell_type": "code",
   "execution_count": null,
   "metadata": {},
   "outputs": [],
   "source": [
    "for episode in range(num_episodes):\n",
    "    state=env.reset()                    # initially setting the state position \n",
    "    done=False\n",
    "    rewards_current_episode = 0            # initialize the initial reward\n",
    "    \n",
    "    for step in range (max_step_per_episode):\n",
    "        exploration_rate_threshold=random.uniform(0,1)\n",
    "        if exploration_rate_threshold>exploration_rate:\n",
    "            action=np.argmax(q_table[state,:])       # action takrn by agent w.r.t exploitation\n",
    "        else:\n",
    "            action=env.action_space.sample()         # action taken by agent w.r.t exploaration\n",
    "        new_state,reward,done,info=env.step(action) # tuple returning new state,reward after the action is done by the agent\n",
    "        \n",
    "        # updating the q_table\n",
    "        q_table[state,action]=q_table[state,action]*(1-alpha)+ alpha*(reward+discounted_return*(np.max(q_table[new_state,:])))\n",
    "        state=new_state\n",
    "        rewards_current_episode +=reward        # collection of rewards for each step of the episode\n",
    "        \n",
    "        if done==True:\n",
    "            break\n",
    "    # formula to specify the rate at which exploartion rate decays\n",
    "    exploration_rate=min_exploration+(max_exploration-min_exploration)*np.exp(-exploration_decay*episode)\n",
    "    rewards_all_episodes.append(rewards_current_episode)\n",
    "rewards_per_thousand_episodes=np.split(np.array(rewards_all_episodes),num_episodes/1000)\n",
    "count=1000\n",
    "print(\"************* avg reward per thousand episode**************\\n\")\n",
    "for r in rewards_per_thousand_episodes:\n",
    "    print(count, \":\" , str(sum(r/1000)))\n",
    "    count+=1000\n",
    "print(\"*******q table*****\\n\")\n",
    "print(q_table)"
   ]
  },
  {
   "cell_type": "code",
   "execution_count": null,
   "metadata": {},
   "outputs": [],
   "source": [
    "for episode in range(3):\n",
    "    state=env.reset()\n",
    "    done=False\n",
    "    print(\"episode\",episode+1,\"\\n\\n\\n\\n\")\n",
    "    time.sleep(2)\n",
    "    for step in range(max_step_per_episode):\n",
    "        clear_output(wait=True)\n",
    "        env.render()\n",
    "        time.sleep(0.5)\n",
    "        action=np.argmax(q_table[state,:])\n",
    "        new_state,reward,done,info=env.step(action)\n",
    "        if done:\n",
    "            clear_output(wait=True)\n",
    "            env.render()\n",
    "            time.sleep(0.5)\n",
    "            if reward==1:\n",
    "                print(\"you reached the goal\")\n",
    "                time.sleep(0.5)\n",
    "            else:\n",
    "                print(\"you fell in the hole\")\n",
    "                time.sleep(0.5)\n",
    "            \n",
    "            clear_output(wait=True)\n",
    "            break\n",
    "        state=new_state\n",
    "env.close()\n",
    "\n",
    "            \n",
    "\n",
    "            \n",
    "        \n",
    "        "
   ]
  },
  {
   "cell_type": "code",
   "execution_count": null,
   "metadata": {},
   "outputs": [],
   "source": []
  }
 ],
 "metadata": {
  "kernelspec": {
   "display_name": "Python 3",
   "language": "python",
   "name": "python3"
  },
  "language_info": {
   "codemirror_mode": {
    "name": "ipython",
    "version": 3
   },
   "file_extension": ".py",
   "mimetype": "text/x-python",
   "name": "python",
   "nbconvert_exporter": "python",
   "pygments_lexer": "ipython3",
   "version": "3.8.5"
  }
 },
 "nbformat": 4,
 "nbformat_minor": 4
}
